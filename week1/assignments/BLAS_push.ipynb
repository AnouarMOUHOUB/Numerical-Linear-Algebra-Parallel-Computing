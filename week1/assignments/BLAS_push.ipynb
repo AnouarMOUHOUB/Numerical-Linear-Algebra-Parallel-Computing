{
 "cells": [
  {
   "cell_type": "markdown",
   "id": "42d4bcb3",
   "metadata": {},
   "source": [
    "Use this cell for all your imports"
   ]
  },
  {
   "cell_type": "code",
   "execution_count": 21,
   "id": "57cb7be7",
   "metadata": {},
   "outputs": [],
   "source": [
    "import numpy as np\n",
    "from scipy.linalg.blas import dgemv, ddot, dnrm2\n",
    "import scipy.linalg.blas as blas\n",
    "import scipy.linalg as la"
   ]
  },
  {
   "cell_type": "markdown",
   "id": "a0ca1a9d",
   "metadata": {},
   "source": [
    "Create a matrix and a vector using NumPy.Their dtype should be double."
   ]
  },
  {
   "cell_type": "code",
   "execution_count": 2,
   "id": "d9c0ef4c",
   "metadata": {},
   "outputs": [],
   "source": [
    "A = np.array([[1, 2, 3], [4, 5, 6], [7, 8, 9]], dtype=np.double)\n",
    "x = np.array([1, 2, 3], dtype=np.double)"
   ]
  },
  {
   "cell_type": "markdown",
   "id": "0363028c",
   "metadata": {},
   "source": [
    "Use BLAS functions to perform matrix-vector multiplication"
   ]
  },
  {
   "cell_type": "code",
   "execution_count": 3,
   "id": "b1561255",
   "metadata": {},
   "outputs": [
    {
     "name": "stdout",
     "output_type": "stream",
     "text": [
      "[0. 0. 0.]\n"
     ]
    }
   ],
   "source": [
    "y = np.zeros_like(x)\n",
    "alpha = 1.0\n",
    "beta = 0.0\n",
    "dgemv(alpha, A, x, beta, y)\n",
    "print(y)"
   ]
  },
  {
   "cell_type": "markdown",
   "id": "ad5b41c4",
   "metadata": {},
   "source": [
    "\n",
    "\n",
    "Create two new vectors and calculate their dot product using BLAS functions.\n"
   ]
  },
  {
   "cell_type": "code",
   "execution_count": 5,
   "id": "7a5daedf",
   "metadata": {},
   "outputs": [
    {
     "name": "stdout",
     "output_type": "stream",
     "text": [
      "32.0\n"
     ]
    }
   ],
   "source": [
    "a = np.array([1, 2, 3], dtype=np.double)\n",
    "b = np.array([4, 5, 6], dtype=np.double)\n",
    "result = ddot(a, b)\n",
    "print(result)"
   ]
  },
  {
   "cell_type": "markdown",
   "id": "a1075e79",
   "metadata": {},
   "source": [
    "Compute the L2 norm (Euclidean distance) of a vector using BLAS functions"
   ]
  },
  {
   "cell_type": "code",
   "execution_count": 6,
   "id": "8b7fd6bd",
   "metadata": {},
   "outputs": [
    {
     "name": "stdout",
     "output_type": "stream",
     "text": [
      "3.7416573867739413\n"
     ]
    }
   ],
   "source": [
    "a = np.array([1, 2, 3], dtype=np.double)\n",
    "norm = dnrm2(a)\n",
    "print(norm)"
   ]
  },
  {
   "cell_type": "markdown",
   "id": "b234a5b0",
   "metadata": {},
   "source": [
    "Create a 5x5 symmetric matrix and calculate its eigenvalues and eigenvectors using BLAS functions"
   ]
  },
  {
   "cell_type": "code",
   "execution_count": 13,
   "id": "b2bf3359",
   "metadata": {},
   "outputs": [
    {
     "name": "stdout",
     "output_type": "stream",
     "text": [
      "1.10.1\n"
     ]
    }
   ],
   "source": [
    "import scipy\n",
    "print(scipy.__version__)\"\"\n",
    "# checking the version of my scipy because the dsyev function doesn't wanna work, i will replace it using \"eigh\""
   ]
  },
  {
   "cell_type": "code",
   "execution_count": 14,
   "id": "6f68e2a8",
   "metadata": {},
   "outputs": [],
   "source": [
    "from scipy.linalg import eigh"
   ]
  },
  {
   "cell_type": "code",
   "execution_count": 15,
   "id": "ae6194a6",
   "metadata": {},
   "outputs": [
    {
     "name": "stdout",
     "output_type": "stream",
     "text": [
      "Eigenvalues: [-0.51572947  0.17091519 11.34481428]\n",
      "Eigenvectors: [[ 0.73697623  0.59100905 -0.32798528]\n",
      " [ 0.32798528 -0.73697623 -0.59100905]\n",
      " [-0.59100905  0.32798528 -0.73697623]]\n"
     ]
    }
   ],
   "source": [
    "A = np.array([[1, 2, 3], [2, 4, 5], [3, 5, 6]], dtype=np.double)\n",
    "w, v = eigh(A)\n",
    "print(\"Eigenvalues:\", w)\n",
    "print(\"Eigenvectors:\", v)"
   ]
  },
  {
   "cell_type": "markdown",
   "id": "ada25531",
   "metadata": {},
   "source": [
    "Given the following matrix A and vector v:"
   ]
  },
  {
   "cell_type": "code",
   "execution_count": 16,
   "id": "1dcbf6cd",
   "metadata": {},
   "outputs": [],
   "source": [
    "A = np.array([[1, 2, 3], [4, 5, 6], [7, 8, 9]], dtype=np.double)\n",
    "b = np.array([1, 2, 3], dtype=np.double)"
   ]
  },
  {
   "cell_type": "markdown",
   "id": "dc9dcfb0",
   "metadata": {},
   "source": [
    "Solve the system Ax = b using the LU decomposition method and BLAS functions"
   ]
  },
  {
   "cell_type": "code",
   "execution_count": 22,
   "id": "7ce19a79",
   "metadata": {},
   "outputs": [
    {
     "name": "stdout",
     "output_type": "stream",
     "text": [
      "x = [1. 1. 1.]\n",
      "Ax = [1.00000000e+00 1.11022302e-16 1.00000000e+00]\n",
      "b = [1 0 1]\n"
     ]
    }
   ],
   "source": [
    "# Define the matrix A and the vector b like in the exercice\n",
    "\n",
    "A = np.array([[1, 2, 3], [4, 5, 6], [7, 8, 9]], dtype=np.double)\n",
    "b = np.array([1, 2, 3], dtype=np.double)\n",
    "\n",
    "# Compute the LU decomposition of A\n",
    "lu, piv = la.lu_factor(A)\n",
    "\n",
    "# Solve the system Ax = b using the LU factors\n",
    "x = la.lu_solve((lu, piv), b)\n",
    "\n",
    "# Verify the solution by computing Ax\n",
    "Ax = blas.dgemv(1.0, A, x)\n",
    "\n",
    "# Print the solution and verify that Ax = b\n",
    "print(\"x =\", x)\n",
    "print(\"Ax =\", Ax)\n",
    "print(\"b =\", b)\n"
   ]
  }
 ],
 "metadata": {
  "kernelspec": {
   "display_name": "Python 3 (ipykernel)",
   "language": "python",
   "name": "python3"
  },
  "language_info": {
   "codemirror_mode": {
    "name": "ipython",
    "version": 3
   },
   "file_extension": ".py",
   "mimetype": "text/x-python",
   "name": "python",
   "nbconvert_exporter": "python",
   "pygments_lexer": "ipython3",
   "version": "3.10.6"
  }
 },
 "nbformat": 4,
 "nbformat_minor": 5
}
