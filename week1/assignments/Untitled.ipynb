{
 "cells": [
  {
   "cell_type": "markdown",
   "id": "f544ca9d",
   "metadata": {},
   "source": [
    "# Introduction "
   ]
  },
  {
   "cell_type": "markdown",
   "id": "ef8e5c4a",
   "metadata": {},
   "source": [
    "### Question 1 : Describe following solution"
   ]
  },
  {
   "cell_type": "code",
   "execution_count": 1,
   "id": "660274f4",
   "metadata": {},
   "outputs": [],
   "source": [
    "def count_divisors(n):\n",
    "    count = 0\n",
    "    d = 1\n",
    "    while d <= n :\n",
    "        if n % d == 0 :\n",
    "            count += 1\n",
    "        d += 1\n",
    "    return count"
   ]
  },
  {
   "cell_type": "markdown",
   "id": "61584759",
   "metadata": {},
   "source": [
    "This function is a function that takes one argument, an integer argument.\n",
    "Then it initialize variable count and d respectively to 0 and 1.\n",
    "count will be used to count the number of divisors, by other mean count the number of times the input n is divided by another integer in the [0,n] range.\n",
    "d is used here to simulates multiple numbers in the same range, will be playing the role of the divider, and also the break key of the loop once it's equal to n+1.\n"
   ]
  },
  {
   "cell_type": "markdown",
   "id": "a0c01f0f",
   "metadata": {},
   "source": [
    "### Question 2 : Describe following solution\n"
   ]
  },
  {
   "cell_type": "code",
   "execution_count": 4,
   "id": "9bd72a80",
   "metadata": {},
   "outputs": [],
   "source": [
    "def count_divisors2(n):\n",
    "    count = 0\n",
    "    d = 1\n",
    "    while d*d <= n :\n",
    "        if n % d == 0 :\n",
    "            count += 1 if n / d == d else 2\n",
    "        d += 1\n",
    "    return count"
   ]
  },
  {
   "cell_type": "markdown",
   "id": "939aea73",
   "metadata": {},
   "source": [
    "This function is way more faster than the first one because, it goes only to the square root of n, instead of going until n, means the range is [0,sqrt(n)]. Because no matter what an integer is if we reach the divisor that if in power 2 equals the n, means there is no other divisor other than n otself thats why we increment by 2. And the loop breaks because we reach the break consition.\n",
    "exemple n=9 ==> 1 is divisor, 3 is divisor and also is sqrt of n, then automatically the only divisor remaining is 9 the number itself\n"
   ]
  },
  {
   "cell_type": "markdown",
   "id": "d94d8dd7",
   "metadata": {},
   "source": [
    "### Question 3 : Run the two programs for different values of n and measure which algorithm is faster."
   ]
  },
  {
   "cell_type": "code",
   "execution_count": 6,
   "id": "9e737231",
   "metadata": {},
   "outputs": [
    {
     "name": "stdout",
     "output_type": "stream",
     "text": [
      "Solution 1 time is :\n",
      "6.45 µs ± 571 ns per loop (mean ± std. dev. of 7 runs, 100,000 loops each)\n",
      "\n",
      "Solution 2 time is :\n",
      "1.18 µs ± 54.8 ns per loop (mean ± std. dev. of 7 runs, 1,000,000 loops each)\n"
     ]
    },
    {
     "data": {
      "text/plain": [
       "9"
      ]
     },
     "execution_count": 6,
     "metadata": {},
     "output_type": "execute_result"
    }
   ],
   "source": [
    "n = 100\n",
    "print('Solution 1 time is :')\n",
    "%timeit count_divisors(n)\n",
    "print()\n",
    "print('Solution 2 time is :')\n",
    "%timeit count_divisors2(n)\n",
    "count_divisors2(n)"
   ]
  },
  {
   "cell_type": "code",
   "execution_count": 7,
   "id": "90c8fe31",
   "metadata": {},
   "outputs": [
    {
     "name": "stdout",
     "output_type": "stream",
     "text": [
      "Solution 1\n",
      "758 µs ± 73.8 µs per loop (mean ± std. dev. of 7 runs, 1,000 loops each)\n",
      "\n",
      "Solution 2\n",
      "9.28 µs ± 1.19 µs per loop (mean ± std. dev. of 7 runs, 100,000 loops each)\n"
     ]
    }
   ],
   "source": [
    "n = 10000\n",
    "print('Solution 1 time is :')\n",
    "%timeit count_divisors(n)\n",
    "print()\n",
    "print('Solution 2 time is :')\n",
    "%timeit count_divisors2(n)"
   ]
  },
  {
   "cell_type": "code",
   "execution_count": 9,
   "id": "8fb559df",
   "metadata": {},
   "outputs": [
    {
     "name": "stdout",
     "output_type": "stream",
     "text": [
      "Solution 1 time is :\n",
      "82.5 ms ± 4.68 ms per loop (mean ± std. dev. of 7 runs, 10 loops each)\n",
      "\n",
      "Solution 2 time is :\n",
      "91.6 µs ± 3.95 µs per loop (mean ± std. dev. of 7 runs, 10,000 loops each)\n"
     ]
    }
   ],
   "source": [
    "n = 1000000\n",
    "print('Solution 1 time is :')\n",
    "%timeit count_divisors(n)\n",
    "print()\n",
    "print('Solution 2 time is :')\n",
    "%timeit count_divisors2(n)"
   ]
  },
  {
   "cell_type": "markdown",
   "id": "545df730",
   "metadata": {},
   "source": [
    "### Question 4: Calculate the number of operations executed by each of the programs for different values of n and generalize for any n."
   ]
  },
  {
   "cell_type": "markdown",
   "id": "68b1567f",
   "metadata": {},
   "source": [
    "Solution 1 : we loop over all integers from $1$ to $n$ and while using one addition and one integer division, so it is n + n wich is : $O(2n)$.\n",
    "\n",
    "Solution 2 : we loop from $1$ to $\\sqrt(n)$ while using one addition one integer division and one division, so it is  \n",
    "sqrt(n) +sqrt(n) +sqrt(n)  wich is :$O(3\\sqrt(n))$ "
   ]
  },
  {
   "cell_type": "markdown",
   "id": "cb6234ef",
   "metadata": {},
   "source": [
    "# Big-O notation"
   ]
  },
  {
   "cell_type": "markdown",
   "id": "a3d66660",
   "metadata": {},
   "source": [
    "1)\n",
    "\n",
    "Our objective will be to prove this : n³ + 2n² + 1/2n + 7 ≤ c * n³ \n",
    "the existence of a c such as our equation T(n) is smaller or equal c*n³ \n",
    "First we can assume that :\n",
    "3n³ + 2n² + 1/2n + 7 ≤ 3n³ + 2n³ + 1/2 n³ + 7n³ = 25/2  n³ ( this is true only for values n>= 1 )\n",
    " then for any value of n sup or equal to 1 ==>  T(n) >= c* n³  ( c= 25/2)\n",
    " Wich imply that T(n) is stricly O(n³)\n",
    " \n",
    "2) \n",
    "\n",
    "To prove that ∀ k ≥ 1, n^k is not O(n^(k-1)), we need to show it like the previous question but raise a absurdity then we say that's impossible\n",
    "\n",
    "Assume for contradiction that there exist positive constants c and f such that for all n ≥ f, n^k ≤ c * n^(k-1). \n",
    "\n",
    "Then we divide both sides of the inequality by n^(k-1) :\n",
    "\n",
    "n ≤ c\n",
    "\n",
    "This implies that n is smaller than any constant c for all n ≥ f, which is a contradiction ( exemple c = f ). Therefore, our assumption that n^k is O(n^(k-1)) is false, and we can conclude that ∀ k ≥ 1, n^k is not O(n^(k-1)).\n",
    "\n",
    "\n",
    "\n"
   ]
  },
  {
   "cell_type": "markdown",
   "id": "b8bd4cc3",
   "metadata": {},
   "source": [
    "# Merge Sorting"
   ]
  },
  {
   "cell_type": "markdown",
   "id": "266ade18",
   "metadata": {},
   "source": [
    "### Question 1 : Given two sorted arrays, write a func.on (with a language of your choice) that merge the two arrays into a single sorted array"
   ]
  },
  {
   "cell_type": "code",
   "execution_count": 38,
   "id": "56252642",
   "metadata": {},
   "outputs": [],
   "source": [
    "def merge1(arr1,arr2):\n",
    "    sort_arr = [None] * (len(arr1) + len(arr2))\n",
    "    i = 0\n",
    "    j = 0\n",
    "    k = 0\n",
    " \n",
    "    while i < len(arr1) and j < len(arr2):\n",
    "        if arr1[i] < arr2[j]:\n",
    "            sort_arr[k] = arr1[i]\n",
    "            k = k + 1\n",
    "            i = i + 1\n",
    "        else:\n",
    "            sort_arr[k] = arr2[j]\n",
    "            k = k + 1\n",
    "            j = j + 1\n",
    "    if i>j\n",
    "        sort_arr[k:]=arr1[i:]\n",
    "    elif i<j :\n",
    "        sort_arr[k:]=arr2[j:]\n",
    "\n",
    "    return sort_arr"
   ]
  },
  {
   "cell_type": "markdown",
   "id": "5707eaaa",
   "metadata": {},
   "source": [
    "### Question 2 : Analyse the complexity of your function using Big-O notation"
   ]
  },
  {
   "cell_type": "markdown",
   "id": "163d5932",
   "metadata": {},
   "source": [
    "My function is O(n) linear in time, because it contains only one loop while wich is of complexity O(n), all th eother if else are of a constant complexity"
   ]
  },
  {
   "cell_type": "markdown",
   "id": "8381af25",
   "metadata": {},
   "source": [
    "# The master method"
   ]
  },
  {
   "cell_type": "markdown",
   "id": "c273a7ac",
   "metadata": {},
   "source": [
    "1) Merge sort\n",
    "We know that the master method follows this rule : \n",
    "    T(n) = a * T(n/b) + f(n)\n",
    "with T(n) is the time complexity of an algorithm of an input (n)\n",
    "with a is the number of subproblems generated at each recursive level\n",
    "with n/b is the input of the sub problem\n",
    "and f(n) is the cost of combining solutions and divinding problems\n",
    "\n",
    "in our case we have T(n)= 2 * T(n/2) + O(n)  ( where f(n) = O(n¹) as d=1 )\n",
    "a=2 / b=2\n",
    "\n",
    "then we check second condition log_2(2) = 1 then the complexity is : O(n^d log(n) )  where d=1 then  the complexity\n",
    "is O(nlog(n))\n",
    "\n",
    "2) Binary search \n",
    "in this case we have T(n) = T(n/2) + O(1) (where f(n) = O(n⁰) as d=0 )\n",
    "a=1 / b=2\n",
    "\n",
    "then we check second condition log_2(1) = 0 then the  complexity is : O(n^d log(n)) where a=1 and b=2 complexity is \n",
    "O(log(n))\n"
   ]
  },
  {
   "cell_type": "markdown",
   "id": "065a7909",
   "metadata": {},
   "source": [
    "# Bonus"
   ]
  }
 ],
 "metadata": {
  "kernelspec": {
   "display_name": "Python 3 (ipykernel)",
   "language": "python",
   "name": "python3"
  },
  "language_info": {
   "codemirror_mode": {
    "name": "ipython",
    "version": 3
   },
   "file_extension": ".py",
   "mimetype": "text/x-python",
   "name": "python",
   "nbconvert_exporter": "python",
   "pygments_lexer": "ipython3",
   "version": "3.10.6"
  }
 },
 "nbformat": 4,
 "nbformat_minor": 5
}
