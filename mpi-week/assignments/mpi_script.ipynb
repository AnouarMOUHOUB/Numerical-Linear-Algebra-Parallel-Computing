{
 "cells": [
  {
   "cell_type": "code",
   "execution_count": null,
   "id": "a8f1f344",
   "metadata": {},
   "outputs": [],
   "source": [
    "\n",
    "\n",
    "from mpi4py import MPI\n",
    "\n",
    "# Initialize MPI environment\n",
    "COMM = MPI.COMM_WORLD\n",
    "\n",
    "# Get the rank of the current process\n",
    "RANK= COMM.Get_rank()\n",
    "\n",
    "# Get the desired core we cant to apply the single processing on\n",
    "i=int(input(\"Enter the desired core you want to use (must be 4 or less): \"))\n",
    "\n",
    "while True:\n",
    "    if RANK == i:\n",
    "        # Only the controller process (rank i) reads the input\n",
    "        value = int(input(\"Enter an integer value (or a negative integer to exit): \"))\n",
    "        \n",
    "        # Send the value to all processes\n",
    "        COMM.bcast(value, root=0)\n",
    "        \n",
    "        if value < 0:\n",
    "            break\n",
    "    else:\n",
    "        # Receive the value from the controller process\n",
    "        value = comm.bcast(None, root=0)\n",
    "    \n",
    "    # Print the received value and the rank of the current process\n",
    "    print(f\"Process {RANK} got {value}\")"
   ]
  }
 ],
 "metadata": {
  "kernelspec": {
   "display_name": "Python 3 (ipykernel)",
   "language": "python",
   "name": "python3"
  },
  "language_info": {
   "codemirror_mode": {
    "name": "ipython",
    "version": 3
   },
   "file_extension": ".py",
   "mimetype": "text/x-python",
   "name": "python",
   "nbconvert_exporter": "python",
   "pygments_lexer": "ipython3",
   "version": "3.10.6"
  }
 },
 "nbformat": 4,
 "nbformat_minor": 5
}
