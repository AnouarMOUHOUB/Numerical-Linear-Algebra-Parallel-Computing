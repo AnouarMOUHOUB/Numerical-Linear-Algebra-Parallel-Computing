{
 "cells": [
  {
   "cell_type": "markdown",
   "id": "c4dfdf7d",
   "metadata": {},
   "source": [
    "# APPROACH 1 :"
   ]
  },
  {
   "cell_type": "code",
   "execution_count": 1,
   "id": "83c248a4",
   "metadata": {},
   "outputs": [],
   "source": [
    "import numpy as np\n",
    "from scipy.sparse import csr_matrix\n",
    "import networkx as nx\n",
    "import matplotlib.pyplot as plt"
   ]
  },
  {
   "cell_type": "code",
   "execution_count": 2,
   "id": "ad5e784d",
   "metadata": {},
   "outputs": [],
   "source": [
    "with open('data.txt', 'r') as f:\n",
    "    next(f)  # skip the first line\n",
    "    next(f)  # skip the second line\n",
    "    next(f)  # skip the third line\n",
    "    data = [tuple(map(int, line.strip().split())) for line in f if not line.startswith('#')]"
   ]
  },
  {
   "cell_type": "code",
   "execution_count": 3,
   "id": "241f838d",
   "metadata": {},
   "outputs": [],
   "source": [
    "n_nodes = max(max(pair) for pair in data)\n",
    "row = [pair[0]-1 for pair in data]  \n",
    "col = [pair[1]-1 for pair in data]  \n",
    "adjacency_matrix = csr_matrix(([1]*len(data), (row, col)), shape=(n_nodes, n_nodes))"
   ]
  },
  {
   "cell_type": "code",
   "execution_count": 4,
   "id": "e65dc72c",
   "metadata": {},
   "outputs": [
    {
     "name": "stdout",
     "output_type": "stream",
     "text": [
      "Node: 9407087, Score: 0.006239\n",
      "Node: 9503124, Score: 0.004633\n",
      "Node: 9510017, Score: 0.004385\n",
      "Node: 9402044, Score: 0.003935\n",
      "Node: 9711200, Score: 0.003410\n",
      "Node: 9410167, Score: 0.003407\n",
      "Node: 9408099, Score: 0.003190\n",
      "Node: 9207016, Score: 0.003114\n",
      "Node: 9402002, Score: 0.002962\n",
      "Node: 9610043, Score: 0.002753\n"
     ]
    }
   ],
   "source": [
    "edges = [(pair[0], pair[1]) for pair in data]\n",
    "\n",
    "graph = nx.DiGraph()\n",
    "graph.add_edges_from(edges)\n",
    "\n",
    "pagerank_scores = nx.pagerank(graph)\n",
    "\n",
    "top_nodes = sorted(pagerank_scores.items(), key=lambda x: x[1], reverse=True)[:10]\n",
    "for node, score in top_nodes:\n",
    "    print(f\"Node: {node}, Score: {score:.6f}\")"
   ]
  },
  {
   "cell_type": "code",
   "execution_count": 5,
   "id": "b1b7147b",
   "metadata": {},
   "outputs": [
    {
     "name": "stdout",
     "output_type": "stream",
     "text": [
      "Paper ID: 9407087\tImportance Score: 0.006238940144956862\n",
      "Paper ID: 9503124\tImportance Score: 0.004632612395114889\n",
      "Paper ID: 9510017\tImportance Score: 0.004385174636483041\n",
      "Paper ID: 9402044\tImportance Score: 0.003935361265182059\n",
      "Paper ID: 9711200\tImportance Score: 0.0034096795339120436\n",
      "Paper ID: 9410167\tImportance Score: 0.003407384352614308\n",
      "Paper ID: 9408099\tImportance Score: 0.003189885804289385\n",
      "Paper ID: 9207016\tImportance Score: 0.0031138685320476673\n",
      "Paper ID: 9402002\tImportance Score: 0.002962472871116506\n",
      "Paper ID: 9610043\tImportance Score: 0.002752901633569934\n",
      "Paper ID: 9205068\tImportance Score: 0.002662010119869519\n",
      "Paper ID: 9510135\tImportance Score: 0.002591437471197141\n",
      "Paper ID: 9201015\tImportance Score: 0.0025543557604313116\n",
      "Paper ID: 9205027\tImportance Score: 0.0024590413632882423\n",
      "Paper ID: 9304154\tImportance Score: 0.002332527841770174\n",
      "Paper ID: 9802150\tImportance Score: 0.0022555134035269044\n",
      "Paper ID: 9401139\tImportance Score: 0.002245967227391332\n",
      "Paper ID: 9504090\tImportance Score: 0.002106518300981487\n",
      "Paper ID: 9802109\tImportance Score: 0.0020708788828597427\n",
      "Paper ID: 208020\tImportance Score: 0.0020685306301780554\n",
      "Paper ID: 9305185\tImportance Score: 0.0020405637739085176\n",
      "Paper ID: 9207053\tImportance Score: 0.00199315671461737\n",
      "Paper ID: 9307049\tImportance Score: 0.001887712321771461\n",
      "Paper ID: 9204102\tImportance Score: 0.0018528350848550483\n",
      "Paper ID: 9510209\tImportance Score: 0.0018088068588391396\n",
      "Paper ID: 9501068\tImportance Score: 0.0017535458409314686\n",
      "Paper ID: 9906064\tImportance Score: 0.001751877879821427\n",
      "Paper ID: 9402032\tImportance Score: 0.0017213960697337204\n",
      "Paper ID: 9301042\tImportance Score: 0.0016396972233774236\n",
      "Paper ID: 9403198\tImportance Score: 0.001595864170093494\n",
      "Paper ID: 9412184\tImportance Score: 0.001549696354642331\n",
      "Paper ID: 9408074\tImportance Score: 0.001525888804509125\n",
      "Paper ID: 9504047\tImportance Score: 0.0015156886158373157\n",
      "Paper ID: 9411149\tImportance Score: 0.001506578984565694\n",
      "Paper ID: 9205081\tImportance Score: 0.0014715127418845877\n",
      "Paper ID: 9308139\tImportance Score: 0.0014686459296334405\n",
      "Paper ID: 9601029\tImportance Score: 0.0014486520828831631\n",
      "Paper ID: 9208055\tImportance Score: 0.0014432837319188993\n",
      "Paper ID: 9407031\tImportance Score: 0.0014351828758977876\n",
      "Paper ID: 9211056\tImportance Score: 0.0014333668538464037\n",
      "Paper ID: 9209016\tImportance Score: 0.00143080175875125\n",
      "Paper ID: 9201019\tImportance Score: 0.0014287670795981049\n",
      "Paper ID: 9204083\tImportance Score: 0.0014023342059415037\n",
      "Paper ID: 9908142\tImportance Score: 0.0013961518671931673\n",
      "Paper ID: 9602052\tImportance Score: 0.0013405229069471355\n",
      "Paper ID: 9201054\tImportance Score: 0.001335004158234237\n",
      "Paper ID: 9402005\tImportance Score: 0.0013158902275951835\n",
      "Paper ID: 9205051\tImportance Score: 0.001298190677746944\n",
      "Paper ID: 9207060\tImportance Score: 0.0012864123523231566\n",
      "Paper ID: 9201061\tImportance Score: 0.001265351519557074\n",
      "Paper ID: 9508143\tImportance Score: 0.001245501772643367\n",
      "Paper ID: 9510169\tImportance Score: 0.001244153604874623\n",
      "Paper ID: 9711162\tImportance Score: 0.0012358222841471027\n",
      "Paper ID: 9211097\tImportance Score: 0.0012049634442507149\n",
      "Paper ID: 9303057\tImportance Score: 0.0011559782553106062\n",
      "Paper ID: 9501030\tImportance Score: 0.0011551363379076322\n",
      "Paper ID: 9512062\tImportance Score: 0.0011522298442628752\n",
      "Paper ID: 9212085\tImportance Score: 0.0011482273752217113\n",
      "Paper ID: 9203066\tImportance Score: 0.0011395551251185717\n",
      "Paper ID: 9309097\tImportance Score: 0.0010960531605133886\n",
      "Paper ID: 9505053\tImportance Score: 0.00107132124950212\n",
      "Paper ID: 9611050\tImportance Score: 0.0010699122872556536\n",
      "Paper ID: 9409089\tImportance Score: 0.001058216505472906\n",
      "Paper ID: 9512077\tImportance Score: 0.0010576797478612507\n",
      "Paper ID: 9204099\tImportance Score: 0.0010447487784693362\n",
      "Paper ID: 9405124\tImportance Score: 0.0010330457672008285\n",
      "Paper ID: 9511030\tImportance Score: 0.0010320051110772363\n",
      "Paper ID: 9403040\tImportance Score: 0.0010128354390488894\n",
      "Paper ID: 9205037\tImportance Score: 0.0010007560428328737\n",
      "Paper ID: 9608024\tImportance Score: 0.0009883629063944784\n",
      "Paper ID: 9205008\tImportance Score: 0.0009873540185953067\n",
      "Paper ID: 9201059\tImportance Score: 0.0009713361548669998\n",
      "Paper ID: 9206016\tImportance Score: 0.0009531845232430083\n",
      "Paper ID: 9504027\tImportance Score: 0.0009459893237356515\n",
      "Paper ID: 9209116\tImportance Score: 0.0009458870367263118\n",
      "Paper ID: 9208078\tImportance Score: 0.0009458069438224926\n",
      "Paper ID: 9309145\tImportance Score: 0.0009357942121960584\n",
      "Paper ID: 9403195\tImportance Score: 0.0009329413968400874\n",
      "Paper ID: 9406128\tImportance Score: 0.000928708914529601\n",
      "Paper ID: 9201056\tImportance Score: 0.0009164933945053628\n",
      "Paper ID: 9512059\tImportance Score: 0.0009124918689117963\n",
      "Paper ID: 9602022\tImportance Score: 0.000900086245113223\n",
      "Paper ID: 9905111\tImportance Score: 0.0008993361136911717\n",
      "Paper ID: 9507121\tImportance Score: 0.0008931585166492201\n",
      "Paper ID: 9910093\tImportance Score: 0.0008810534615934034\n",
      "Paper ID: 9510086\tImportance Score: 0.0008541909144881428\n",
      "Paper ID: 9411048\tImportance Score: 0.0008483827127021045\n",
      "Paper ID: 9507158\tImportance Score: 0.0008440155098014907\n",
      "Paper ID: 9410073\tImportance Score: 0.0008419300455694551\n",
      "Paper ID: 9511222\tImportance Score: 0.0008283652662080592\n",
      "Paper ID: 9602135\tImportance Score: 0.0008268117593281015\n",
      "Paper ID: 9611042\tImportance Score: 0.000825715514973578\n",
      "Paper ID: 9504145\tImportance Score: 0.0008193884590205712\n",
      "Paper ID: 9506194\tImportance Score: 0.000810892307829055\n",
      "Paper ID: 9602043\tImportance Score: 0.0008079022946055187\n",
      "Paper ID: 9407111\tImportance Score: 0.0007946172699449964\n",
      "Paper ID: 9506126\tImportance Score: 0.0007916865658019508\n",
      "Paper ID: 9507050\tImportance Score: 0.0007778348191819355\n",
      "Paper ID: 9411057\tImportance Score: 0.0007763021003975826\n",
      "Paper ID: 9510225\tImportance Score: 0.0007758118112283623\n"
     ]
    }
   ],
   "source": [
    "pagerank_scores = nx.pagerank(graph)\n",
    "\n",
    "\n",
    "sorted_nodes = sorted(pagerank_scores.items(), key=lambda x: x[1], reverse=True)\n",
    "\n",
    "for node, score in sorted_nodes[:100]:\n",
    "    print(f\"Paper ID: {node}\\tImportance Score: {score}\")"
   ]
  },
  {
   "cell_type": "code",
   "execution_count": 8,
   "id": "bae57c3e",
   "metadata": {},
   "outputs": [
    {
     "data": {
      "image/png": "[encoded data removed]",
      "text/plain": [
       "<Figure size 640x480 with 1 Axes>"
      ]
     },
     "metadata": {},
     "output_type": "display_data"
    }
   ],
   "source": [
    "pagerank_scores = nx.pagerank(graph)\n",
    "\n",
    "top_papers = sorted(pagerank_scores.items(), key=lambda x: x[1], reverse=True)[:100]\n",
    "scores = [score for paper, score in top_papers]\n",
    "\n",
    "\n",
    "plt.hist(scores, bins=20 , color=\"black\")\n",
    "plt.xlabel('PageRank score')\n",
    "plt.ylabel('Frequency')\n",
    "plt.title('Distribution of PageRank scores for top 100 papers')\n",
    "plt.show()"
   ]
  },
  {
   "cell_type": "markdown",
   "id": "4c67c02d",
   "metadata": {},
   "source": [
    "# APPROACH 2 :\n"
   ]
  },
  {
   "cell_type": "markdown",
   "id": "341c1bcc",
   "metadata": {},
   "source": [
    "Use this cell for all your imports"
   ]
  },
  {
   "cell_type": "code",
   "execution_count": 3,
   "id": "fb78580c",
   "metadata": {},
   "outputs": [],
   "source": [
    "import numpy as np\n",
    "import pandas as pd\n",
    "import scipy.sparse as sp\n",
    "import networkx as nx\n",
    "import matplotlib.pyplot as plt\n",
    "from scipy.sparse import coo_matrix, csr_matrix\n",
    "from sklearn.preprocessing import normalize"
   ]
  },
  {
   "cell_type": "markdown",
   "id": "c1f4247c",
   "metadata": {},
   "source": [
    "You will be working with the file data.txt. Use this cell to load its content into the appropriate data structure."
   ]
  },
  {
   "cell_type": "code",
   "execution_count": 4,
   "id": "911b6b27",
   "metadata": {},
   "outputs": [
    {
     "name": "stdout",
     "output_type": "stream",
     "text": [
      "[[1001, 9304045], [1001, 9308122], [1001, 9309097], [1001, 9311042], [1001, 9401139]]\n",
      "smallest id value in this matrix is : 1001\n",
      "largest id value in this matrix is : 9912293\n"
     ]
    }
   ],
   "source": [
    "#import the data from the file data.txt, and since the file is 2 columns format : original node and destination node\n",
    "#then we will import the data as a list of tlists store in the variable\n",
    "\n",
    "with open('data.txt', 'r') as f:\n",
    "    edges = [list(map(int, line.strip().split())) for line in f]\n",
    "\n",
    "#print a big header because the data is too big it can't be handled by the notebook\n",
    "\n",
    "print(edges[:5])\n",
    "\n",
    "#detect the smallest element in the list to know the smallest id node , this will be the first row and column of our matrix\n",
    "\n",
    "smallest = min([min(t) for t in edges])\n",
    "print(\"smallest id value in this matrix is :\",smallest)\n",
    "\n",
    "#detect the largest element in the list to know the largest id node, this will be the last row and column of our matrix\n",
    "\n",
    "largest= max([max(t) for t in edges])\n",
    "print(\"largest id value in this matrix is :\",largest)"
   ]
  },
  {
   "cell_type": "markdown",
   "id": "9c83051f",
   "metadata": {},
   "source": [
    "Use this cell to normalize the matrix as you see fit."
   ]
  },
  {
   "cell_type": "code",
   "execution_count": 5,
   "id": "83c6868d",
   "metadata": {},
   "outputs": [],
   "source": [
    "data = np.array(edges, dtype=np.int64)\n",
    "data[:5]\n",
    "org_arr = data[:, 0] #create nparray of all origins nodes\n",
    "dest_arr = data[:, 1] #create nparray of all destination nodes"
   ]
  },
  {
   "cell_type": "code",
   "execution_count": 6,
   "id": "1928356b",
   "metadata": {},
   "outputs": [],
   "source": [
    "# get the number of nodes\n",
    "n_nodes = np.max(data) + 1\n",
    "\n",
    "# create a sparse matrix in CSR format since the matrix is too large and we will always get memory error allocating it\n",
    "matrix = np.ones(len(data))\n",
    "transition_matrix = csr_matrix((matrix, (org_arr, dest_arr)), shape=(n_nodes, n_nodes))"
   ]
  },
  {
   "cell_type": "code",
   "execution_count": 7,
   "id": "a13f41cf",
   "metadata": {},
   "outputs": [],
   "source": [
    "# Normalize the rows of the matrix so that they sum up to 1, meaning we want to aqcuire \n",
    "# matrix of probabilities of transitions from a state to another\n",
    "normalized_matrix = normalize(transition_matrix, norm='l1', axis=1)"
   ]
  },
  {
   "cell_type": "markdown",
   "id": "3c042c0a",
   "metadata": {},
   "source": [
    "Apply the PageRank algorithm to the matrix you created."
   ]
  },
  {
   "cell_type": "code",
   "execution_count": 8,
   "id": "64976b0c",
   "metadata": {},
   "outputs": [],
   "source": [
    "# Convert the sparse matrix to a networkx graph and use the \"from_scipy_sparse_array\" because the \n",
    "# \"from_scipy_sparse_matrix\" is no longer available in the 3.0 version\n",
    "graph = nx.from_scipy_sparse_array(normalized_matrix)\n",
    "\n",
    "# Compute the PageRank scores of the nodes in the graph\n",
    "pagerank_scores = nx.pagerank(graph)"
   ]
  },
  {
   "cell_type": "markdown",
   "id": "5f693996",
   "metadata": {},
   "source": [
    "Output a list of the 100 most important papers along with their importance"
   ]
  },
  {
   "cell_type": "code",
   "execution_count": 9,
   "id": "26dc2499",
   "metadata": {},
   "outputs": [
    {
     "name": "stdout",
     "output_type": "stream",
     "text": [
      " 1. Paper name : 9711200 ==> Rate : 1e-05\n",
      " 2. Paper name : 9407087 ==> Rate : 1e-05\n",
      " 3. Paper name : 9802150 ==> Rate : 1e-05\n",
      " 4. Paper name : 9906064 ==> Rate : 1e-05\n",
      " 5. Paper name : 9908142 ==> Rate : 0.0\n",
      " 6. Paper name : 9802109 ==> Rate : 0.0\n",
      " 7. Paper name : 9610043 ==> Rate : 0.0\n",
      " 8. Paper name : 9408099 ==> Rate : 0.0\n",
      " 9. Paper name : 9510017 ==> Rate : 0.0\n",
      " 10. Paper name : 9503124 ==> Rate : 0.0\n",
      " 11. Paper name : 9905111 ==> Rate : 0.0\n",
      " 12. Paper name : 9711162 ==> Rate : 0.0\n",
      " 13. Paper name : 9510209 ==> Rate : 0.0\n",
      " 14. Paper name : 9204099 ==> Rate : 0.0\n",
      " 15. Paper name : 9405029 ==> Rate : 0.0\n",
      " 16. Paper name : 9611050 ==> Rate : 0.0\n",
      " 17. Paper name : 9510135 ==> Rate : 0.0\n",
      " 18. Paper name : 9410167 ==> Rate : 0.0\n",
      " 19. Paper name : 9205068 ==> Rate : 0.0\n",
      " 20. Paper name : 9210010 ==> Rate : 0.0\n",
      " 21. Paper name : 9601029 ==> Rate : 0.0\n",
      " 22. Paper name : 9409089 ==> Rate : 0.0\n",
      " 23. Paper name : 9401139 ==> Rate : 0.0\n",
      " 24. Paper name : 9204064 ==> Rate : 0.0\n",
      " 25. Paper name : 9411149 ==> Rate : 0.0\n",
      " 26. Paper name : 9412184 ==> Rate : 0.0\n",
      " 27. Paper name : 9603142 ==> Rate : 0.0\n",
      " 28. Paper name : 9301042 ==> Rate : 0.0\n",
      " 29. Paper name : 9401153 ==> Rate : 0.0\n",
      " 30. Paper name : 9306002 ==> Rate : 0.0\n",
      " 31. Paper name : 9602022 ==> Rate : 0.0\n",
      " 32. Paper name : 9201056 ==> Rate : 0.0\n",
      " 33. Paper name : 9204083 ==> Rate : 0.0\n",
      " 34. Paper name : 9803131 ==> Rate : 0.0\n",
      " 35. Paper name : 9201061 ==> Rate : 0.0\n",
      " 36. Paper name : 9612115 ==> Rate : 0.0\n",
      " 37. Paper name : 9202057 ==> Rate : 0.0\n",
      " 38. Paper name : 9206084 ==> Rate : 0.0\n",
      " 39. Paper name : 9402044 ==> Rate : 0.0\n",
      " 40. Paper name : 9411102 ==> Rate : 0.0\n",
      " 41. Paper name : 9912072 ==> Rate : 0.0\n",
      " 42. Paper name : 9711165 ==> Rate : 0.0\n",
      " 43. Paper name : 9509066 ==> Rate : 0.0\n",
      " 44. Paper name : 9402002 ==> Rate : 0.0\n",
      " 45. Paper name : 9611230 ==> Rate : 0.0\n",
      " 46. Paper name : 9703166 ==> Rate : 0.0\n",
      " 47. Paper name : 9602052 ==> Rate : 0.0\n",
      " 48. Paper name : 9703030 ==> Rate : 0.0\n",
      " 49. Paper name : 9408074 ==> Rate : 0.0\n",
      " 50. Paper name : 9603167 ==> Rate : 0.0\n",
      " 51. Paper name : 106048 ==> Rate : 0.0\n",
      " 52. Paper name : 9306153 ==> Rate : 0.0\n",
      " 53. Paper name : 9211021 ==> Rate : 0.0\n",
      " 54. Paper name : 9206070 ==> Rate : 0.0\n",
      " 55. Paper name : 9810188 ==> Rate : 0.0\n",
      " 56. Paper name : 9602070 ==> Rate : 0.0\n",
      " 57. Paper name : 9412228 ==> Rate : 0.0\n",
      " 58. Paper name : 9402032 ==> Rate : 0.0\n",
      " 59. Paper name : 9501068 ==> Rate : 0.0\n",
      " 60. Paper name : 9608024 ==> Rate : 0.0\n",
      " 61. Paper name : 9206029 ==> Rate : 0.0\n",
      " 62. Paper name : 9205027 ==> Rate : 0.0\n",
      " 63. Paper name : 9202046 ==> Rate : 0.0\n",
      " 64. Paper name : 9304154 ==> Rate : 0.0\n",
      " 65. Paper name : 9202014 ==> Rate : 0.0\n",
      " 66. Paper name : 9508143 ==> Rate : 0.0\n",
      " 67. Paper name : 9301068 ==> Rate : 0.0\n",
      " 68. Paper name : 9603053 ==> Rate : 0.0\n",
      " 69. Paper name : 9910053 ==> Rate : 0.0\n",
      " 70. Paper name : 9304011 ==> Rate : 0.0\n",
      " 71. Paper name : 9209044 ==> Rate : 0.0\n",
      " 72. Paper name : 202021 ==> Rate : 0.0\n",
      " 73. Paper name : 9306069 ==> Rate : 0.0\n",
      " 74. Paper name : 9207016 ==> Rate : 0.0\n",
      " 75. Paper name : 9201026 ==> Rate : 0.0\n",
      " 76. Paper name : 9212149 ==> Rate : 0.0\n",
      " 77. Paper name : 9507158 ==> Rate : 0.0\n",
      " 78. Paper name : 9803002 ==> Rate : 0.0\n",
      " 79. Paper name : 9510169 ==> Rate : 0.0\n",
      " 80. Paper name : 9704080 ==> Rate : 0.0\n",
      " 81. Paper name : 9206007 ==> Rate : 0.0\n",
      " 82. Paper name : 9405109 ==> Rate : 0.0\n",
      " 83. Paper name : 9208066 ==> Rate : 0.0\n",
      " 84. Paper name : 9401070 ==> Rate : 0.0\n",
      " 85. Paper name : 9905012 ==> Rate : 0.0\n",
      " 86. Paper name : 9303046 ==> Rate : 0.0\n",
      " 87. Paper name : 9512062 ==> Rate : 0.0\n",
      " 88. Paper name : 9607201 ==> Rate : 0.0\n",
      " 89. Paper name : 9602043 ==> Rate : 0.0\n",
      " 90. Paper name : 9208007 ==> Rate : 0.0\n",
      " 91. Paper name : 3160 ==> Rate : 0.0\n",
      " 92. Paper name : 9610193 ==> Rate : 0.0\n",
      " 93. Paper name : 9504090 ==> Rate : 0.0\n",
      " 94. Paper name : 9210141 ==> Rate : 0.0\n",
      " 95. Paper name : 9802042 ==> Rate : 0.0\n",
      " 96. Paper name : 9903205 ==> Rate : 0.0\n",
      " 97. Paper name : 9909134 ==> Rate : 0.0\n",
      " 98. Paper name : 9708147 ==> Rate : 0.0\n",
      " 99. Paper name : 9812219 ==> Rate : 0.0\n",
      " 100. Paper name : 9805114 ==> Rate : 0.0\n"
     ]
    }
   ],
   "source": [
    "# Sort the papers by PageRank score using a descending order from stronger to weaker score\n",
    "sorted_papers = sorted(pagerank_scores.items(), key=lambda x: x[1], reverse=True)\n",
    "\n",
    "# Print the top 100 papers and their PageRank scores and give it a little aesthetic look\n",
    "for i, paper in enumerate(sorted_papers[:100]):\n",
    "    print(f\" {i+1}. Paper name : {paper[0]} ==> Rate : {np.round(paper[1], 5)}\")\n"
   ]
  },
  {
   "cell_type": "markdown",
   "id": "b465c80f",
   "metadata": {},
   "source": [
    "Visualize your results"
   ]
  },
  {
   "cell_type": "code",
   "execution_count": 15,
   "id": "4d246935",
   "metadata": {},
   "outputs": [
    {
     "data": {
      "image/png": "[encoded data removed]",
      "text/plain": [
       "<Figure size 1500x1000 with 1 Axes>"
      ]
     },
     "metadata": {},
     "output_type": "display_data"
    }
   ],
   "source": [
    "# Since we already have the sorted list we will just take the 100 first element\n",
    "final_list = sorted_papers[:100]\n",
    "paper_names = [p[0] for p in final_list]\n",
    "paper_scores = [p[1] for p in final_list]\n",
    "\n",
    "#setting limits based on the data by calculating min and max of each array\n",
    "x_min_lim= min(paper_names)\n",
    "x_max_lim= max(paper_names)\n",
    "y_min_lim= min(paper_scores)\n",
    "y_max_lim= max(paper_scores)\n",
    "\n",
    "# Create a bar plot of the importance scores\n",
    "plt.figure(figsize=(15,10))\n",
    "plt.bar(paper_names, paper_scores , color ='blue')\n",
    "plt.xlim(x_min_lim , x_max_lim)\n",
    "plt.ylim(y_min_lim , y_max_lim)\n",
    "plt.xticks(rotation=90)\n",
    "plt.xlabel('Paper')\n",
    "plt.ylabel('Importance Score')\n",
    "plt.title('Top 100 Papers')\n",
    "plt.show()\n"
   ]
  }
 ],
 "metadata": {
  "kernelspec": {
   "display_name": "Python 3 (ipykernel)",
   "language": "python",
   "name": "python3"
  },
  "language_info": {
   "codemirror_mode": {
    "name": "ipython",
    "version": 3
   },
   "file_extension": ".py",
   "mimetype": "text/x-python",
   "name": "python",
   "nbconvert_exporter": "python",
   "pygments_lexer": "ipython3",
   "version": "3.10.6"
  }
 },
 "nbformat": 4,
 "nbformat_minor": 5
}
